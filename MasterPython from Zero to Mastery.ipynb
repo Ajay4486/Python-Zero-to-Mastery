{
 "cells": [
  {
   "cell_type": "markdown",
   "id": "9325a95e",
   "metadata": {},
   "source": [
    "# This is Python Tutorial"
   ]
  },
  {
   "cell_type": "code",
   "execution_count": null,
   "id": "44535de3",
   "metadata": {},
   "outputs": [],
   "source": [
    "print(\"Hello World\")\n",
    "print(\"a = b + c\")"
   ]
  },
  {
   "cell_type": "markdown",
   "id": "f4ddd520",
   "metadata": {},
   "source": [
    "# Variables\n"
   ]
  },
  {
   "cell_type": "code",
   "execution_count": null,
   "id": "89f49bef",
   "metadata": {},
   "outputs": [],
   "source": [
    "x = 3\n"
   ]
  },
  {
   "cell_type": "code",
   "execution_count": null,
   "id": "49b8df73",
   "metadata": {},
   "outputs": [],
   "source": [
    "%whos   #tells about variables present inside  memory and its type"
   ]
  },
  {
   "cell_type": "code",
   "execution_count": null,
   "id": "ea6a6c4b",
   "metadata": {},
   "outputs": [],
   "source": [
    "print(type(x))   #for explicitly checking"
   ]
  },
  {
   "cell_type": "code",
   "execution_count": null,
   "id": "5a49b66a",
   "metadata": {},
   "outputs": [],
   "source": [
    "x = 4.5"
   ]
  },
  {
   "cell_type": "code",
   "execution_count": null,
   "id": "fb1e62e8",
   "metadata": {},
   "outputs": [],
   "source": [
    "%whos"
   ]
  },
  {
   "cell_type": "code",
   "execution_count": null,
   "id": "b05fba53",
   "metadata": {},
   "outputs": [],
   "source": [
    "a,b,c,d,e = 1,2.0,5,7,4.5"
   ]
  },
  {
   "cell_type": "code",
   "execution_count": null,
   "id": "b3fbe016",
   "metadata": {},
   "outputs": [],
   "source": [
    "%whos"
   ]
  },
  {
   "cell_type": "code",
   "execution_count": null,
   "id": "6e5952c7",
   "metadata": {},
   "outputs": [],
   "source": [
    "del x\n"
   ]
  },
  {
   "cell_type": "code",
   "execution_count": null,
   "id": "95860494",
   "metadata": {},
   "outputs": [],
   "source": [
    "%whos"
   ]
  },
  {
   "cell_type": "code",
   "execution_count": null,
   "id": "5b86c0eb",
   "metadata": {},
   "outputs": [],
   "source": [
    "print(x) #since it is not present inside list"
   ]
  },
  {
   "cell_type": "code",
   "execution_count": null,
   "id": "312a6a0c",
   "metadata": {},
   "outputs": [],
   "source": [
    "y = 3 + 4j"
   ]
  },
  {
   "cell_type": "code",
   "execution_count": null,
   "id": "f3014f0d",
   "metadata": {},
   "outputs": [],
   "source": [
    "print(type(y))\n"
   ]
  },
  {
   "cell_type": "code",
   "execution_count": null,
   "id": "0bd1ec03",
   "metadata": {},
   "outputs": [],
   "source": [
    "s = \"Hello How are you\""
   ]
  },
  {
   "cell_type": "code",
   "execution_count": null,
   "id": "be224536",
   "metadata": {},
   "outputs": [],
   "source": [
    "print(type(s))"
   ]
  },
  {
   "cell_type": "markdown",
   "id": "608a0e27",
   "metadata": {},
   "source": [
    "# Operators"
   ]
  },
  {
   "cell_type": "code",
   "execution_count": null,
   "id": "8d072668",
   "metadata": {},
   "outputs": [],
   "source": [
    "%whos"
   ]
  },
  {
   "cell_type": "code",
   "execution_count": null,
   "id": "12803d31",
   "metadata": {},
   "outputs": [],
   "source": [
    "sumofaAndb = a+b"
   ]
  },
  {
   "cell_type": "code",
   "execution_count": null,
   "id": "e7a17c6b",
   "metadata": {},
   "outputs": [],
   "source": [
    "print(sumofaAndb)"
   ]
  },
  {
   "cell_type": "code",
   "execution_count": null,
   "id": "8827ba9a",
   "metadata": {},
   "outputs": [],
   "source": [
    "type(sumofaAndb)"
   ]
  },
  {
   "cell_type": "code",
   "execution_count": null,
   "id": "6f9dc958",
   "metadata": {},
   "outputs": [],
   "source": [
    "type(a+y)"
   ]
  },
  {
   "cell_type": "code",
   "execution_count": null,
   "id": "2ddbafa4",
   "metadata": {},
   "outputs": [],
   "source": [
    "v = ((a+d)**3)/4"
   ]
  },
  {
   "cell_type": "code",
   "execution_count": null,
   "id": "6d4341a1",
   "metadata": {},
   "outputs": [],
   "source": [
    "print(v)"
   ]
  },
  {
   "cell_type": "code",
   "execution_count": null,
   "id": "d1369435",
   "metadata": {},
   "outputs": [],
   "source": [
    "s1 = \"Ajay  \"\n",
    "s2 = \"Shitkar\"\n",
    "s = s1 + s2   #Here + sign is used for concatenation purpose and not for addition\n",
    "print(s)"
   ]
  },
  {
   "cell_type": "code",
   "execution_count": null,
   "id": "40b82f43",
   "metadata": {},
   "outputs": [],
   "source": [
    "10//3 #floor division"
   ]
  },
  {
   "cell_type": "code",
   "execution_count": null,
   "id": "490d1fad",
   "metadata": {},
   "outputs": [],
   "source": [
    "10/3 # division"
   ]
  },
  {
   "cell_type": "code",
   "execution_count": null,
   "id": "53f5fa98",
   "metadata": {},
   "outputs": [],
   "source": [
    "_                #for printing variables"
   ]
  },
  {
   "cell_type": "code",
   "execution_count": null,
   "id": "ec829ed4",
   "metadata": {},
   "outputs": [],
   "source": [
    "@y = 5 #invalid variable name"
   ]
  },
  {
   "cell_type": "code",
   "execution_count": null,
   "id": "ecdd3950",
   "metadata": {},
   "outputs": [],
   "source": [
    "_r = 5 # valid variable before _  (exceptional)"
   ]
  },
  {
   "cell_type": "markdown",
   "id": "da83e065",
   "metadata": {},
   "source": [
    "# Bool"
   ]
  },
  {
   "cell_type": "code",
   "execution_count": null,
   "id": "4c87d236",
   "metadata": {},
   "outputs": [],
   "source": [
    "a = True\n",
    "b = True\n",
    "c = False"
   ]
  },
  {
   "cell_type": "code",
   "execution_count": null,
   "id": "364e7cae",
   "metadata": {},
   "outputs": [],
   "source": [
    "%whos"
   ]
  },
  {
   "cell_type": "code",
   "execution_count": null,
   "id": "8c7814c1",
   "metadata": {},
   "outputs": [],
   "source": [
    "print(a and b)\n",
    "print(a and c)\n",
    "print(c and a)"
   ]
  },
  {
   "cell_type": "code",
   "execution_count": null,
   "id": "0258116b",
   "metadata": {},
   "outputs": [],
   "source": [
    "d = a or b\n",
    "print(d)"
   ]
  },
  {
   "cell_type": "code",
   "execution_count": null,
   "id": "3f63452f",
   "metadata": {},
   "outputs": [],
   "source": [
    "not(a)  #contradict of a"
   ]
  },
  {
   "cell_type": "code",
   "execution_count": null,
   "id": "2d582d63",
   "metadata": {},
   "outputs": [],
   "source": [
    "not(b)"
   ]
  },
  {
   "cell_type": "code",
   "execution_count": null,
   "id": "1bda7b14",
   "metadata": {},
   "outputs": [],
   "source": [
    "j = not(d)"
   ]
  },
  {
   "cell_type": "code",
   "execution_count": null,
   "id": "b29c9f6a",
   "metadata": {},
   "outputs": [],
   "source": [
    "type(j)"
   ]
  },
  {
   "cell_type": "code",
   "execution_count": null,
   "id": "e1552d93",
   "metadata": {},
   "outputs": [],
   "source": [
    "print(j)"
   ]
  },
  {
   "cell_type": "code",
   "execution_count": null,
   "id": "caf41de5",
   "metadata": {},
   "outputs": [],
   "source": [
    "not((a and b) or (a and c))"
   ]
  },
  {
   "cell_type": "markdown",
   "id": "78ccbb6a",
   "metadata": {},
   "source": [
    "# Comparison"
   ]
  },
  {
   "cell_type": "code",
   "execution_count": null,
   "id": "82de1c47",
   "metadata": {},
   "outputs": [],
   "source": [
    "print(5<7)"
   ]
  },
  {
   "cell_type": "code",
   "execution_count": null,
   "id": "930672c3",
   "metadata": {},
   "outputs": [],
   "source": [
    "c = 3<6\n",
    "print(type(c))"
   ]
  },
  {
   "cell_type": "code",
   "execution_count": null,
   "id": "b35fd205",
   "metadata": {},
   "outputs": [],
   "source": [
    "print(c)"
   ]
  },
  {
   "cell_type": "code",
   "execution_count": null,
   "id": "e57a4821",
   "metadata": {},
   "outputs": [],
   "source": [
    "x = 3\n",
    "y = 5\n",
    "z = 5.6\n",
    "r = 8"
   ]
  },
  {
   "cell_type": "code",
   "execution_count": null,
   "id": "7d1bb6e5",
   "metadata": {},
   "outputs": [],
   "source": [
    "(x<y) and (z>y) or (r==x)"
   ]
  },
  {
   "cell_type": "code",
   "execution_count": null,
   "id": "34fb8d8a",
   "metadata": {},
   "outputs": [],
   "source": [
    "print((not(2!=3) and True) or (False and True))"
   ]
  },
  {
   "cell_type": "markdown",
   "id": "e73d80f1",
   "metadata": {},
   "source": [
    "# Some Useful Functions"
   ]
  },
  {
   "cell_type": "markdown",
   "id": "6f8d2d81",
   "metadata": {},
   "source": [
    "**#\n",
    "round() function rounds the input value to a specified number of places or to the nearest integer"
   ]
  },
  {
   "cell_type": "code",
   "execution_count": null,
   "id": "85b4d6ff",
   "metadata": {},
   "outputs": [],
   "source": [
    "print(round(4.556))"
   ]
  },
  {
   "cell_type": "code",
   "execution_count": null,
   "id": "3b09395f",
   "metadata": {},
   "outputs": [],
   "source": [
    "print(round(4.556789,2))  #result should be upto 2 decimal places"
   ]
  },
  {
   "cell_type": "markdown",
   "id": "d4efceab",
   "metadata": {},
   "source": [
    " **#\n",
    " divmod(x,y) outputs the quotient and the reminder in a tuple"
   ]
  },
  {
   "cell_type": "code",
   "execution_count": null,
   "id": "806e4fde",
   "metadata": {},
   "outputs": [],
   "source": [
    "G= divmod(34,10)"
   ]
  },
  {
   "cell_type": "code",
   "execution_count": null,
   "id": "4f367345",
   "metadata": {},
   "outputs": [],
   "source": [
    "type(G)"
   ]
  },
  {
   "cell_type": "code",
   "execution_count": null,
   "id": "9c80b652",
   "metadata": {},
   "outputs": [],
   "source": [
    "print(G)"
   ]
  },
  {
   "cell_type": "code",
   "execution_count": null,
   "id": "a0bb3dbb",
   "metadata": {},
   "outputs": [],
   "source": [
    "G[0]"
   ]
  },
  {
   "cell_type": "code",
   "execution_count": null,
   "id": "56df1a05",
   "metadata": {},
   "outputs": [],
   "source": [
    "G[1]"
   ]
  },
  {
   "cell_type": "markdown",
   "id": "a4d827f5",
   "metadata": {},
   "source": [
    "**#\n",
    "isinstance() returns True, if the first argument is an instance of that class. Multiple classes can also be checked at once.\n"
   ]
  },
  {
   "cell_type": "code",
   "execution_count": null,
   "id": "0893eb0c",
   "metadata": {},
   "outputs": [],
   "source": [
    "v = isinstance(1,int)\n",
    "h = isinstance(1.0,int)\n",
    "j = isinstance(2.098,(int,float)) \n"
   ]
  },
  {
   "cell_type": "code",
   "execution_count": null,
   "id": "d5aa2093",
   "metadata": {},
   "outputs": [],
   "source": [
    "print(v)\n",
    "print(h)\n",
    "print(j)"
   ]
  },
  {
   "cell_type": "markdown",
   "id": "f1350755",
   "metadata": {},
   "source": [
    "**#\n",
    "pow(x,y) x raise to y\n",
    "x**y means the same \n",
    "pow(x,y,z) x raise to the power y and remainder by z,\n",
    "it sometimes helps to take 3 argument at a time."
   ]
  },
  {
   "cell_type": "code",
   "execution_count": null,
   "id": "717348a1",
   "metadata": {},
   "outputs": [],
   "source": [
    "pow(5,6)"
   ]
  },
  {
   "cell_type": "code",
   "execution_count": null,
   "id": "82a901aa",
   "metadata": {},
   "outputs": [],
   "source": [
    "pow(2,3,5) "
   ]
  },
  {
   "cell_type": "markdown",
   "id": "9a76afc0",
   "metadata": {},
   "source": [
    "**#\n",
    "Input()  for eg: input(\"Enter Something\")\n",
    "It takes value in only string"
   ]
  },
  {
   "cell_type": "code",
   "execution_count": null,
   "id": "984bc4a1",
   "metadata": {},
   "outputs": [],
   "source": [
    "x = input(\"Enter a number : \")"
   ]
  },
  {
   "cell_type": "code",
   "execution_count": null,
   "id": "e81e49c2",
   "metadata": {},
   "outputs": [],
   "source": [
    "type(x)"
   ]
  },
  {
   "cell_type": "code",
   "execution_count": null,
   "id": "5611c17f",
   "metadata": {},
   "outputs": [],
   "source": [
    "#conversion of str to int\n",
    "x = int(x)"
   ]
  },
  {
   "cell_type": "code",
   "execution_count": null,
   "id": "d0b4dd51",
   "metadata": {},
   "outputs": [],
   "source": [
    "type(x)"
   ]
  },
  {
   "cell_type": "code",
   "execution_count": null,
   "id": "7f7f2ea7",
   "metadata": {},
   "outputs": [],
   "source": [
    "print(x-34)"
   ]
  },
  {
   "cell_type": "code",
   "execution_count": null,
   "id": "ea7ee746",
   "metadata": {},
   "outputs": [],
   "source": [
    "x = str(x)"
   ]
  },
  {
   "cell_type": "code",
   "execution_count": null,
   "id": "d276d52a",
   "metadata": {},
   "outputs": [],
   "source": [
    "type(x)"
   ]
  },
  {
   "cell_type": "code",
   "execution_count": null,
   "id": "0d47fa34",
   "metadata": {},
   "outputs": [],
   "source": [
    "#can also be written as\n",
    "a = float(input(\"Enter a real number : \"))"
   ]
  },
  {
   "cell_type": "code",
   "execution_count": null,
   "id": "f8f66234",
   "metadata": {},
   "outputs": [],
   "source": [
    "type(a)"
   ]
  },
  {
   "cell_type": "code",
   "execution_count": null,
   "id": "0af5b525",
   "metadata": {},
   "outputs": [],
   "source": [
    "help(pow)"
   ]
  },
  {
   "cell_type": "markdown",
   "id": "2f966d93",
   "metadata": {},
   "source": [
    "# Control Flow (Condition)\n",
    "\n",
    "\n",
    "    "
   ]
  },
  {
   "cell_type": "markdown",
   "id": "b1512e64",
   "metadata": {},
   "source": [
    "# if condition"
   ]
  },
  {
   "cell_type": "code",
   "execution_count": null,
   "id": "084b4e7e",
   "metadata": {},
   "outputs": [],
   "source": [
    "a = int(input(\"Enter a number : \"))\n",
    "b = int(input(\"Enter a number : \"))\n",
    "if a>b:\n",
    "    print(\"a is greater than b\")\n",
    "if b>a:\n",
    "    print(\"b is greater than a\")    "
   ]
  },
  {
   "cell_type": "markdown",
   "id": "4339fc45",
   "metadata": {},
   "source": [
    "# else condition"
   ]
  },
  {
   "cell_type": "code",
   "execution_count": null,
   "id": "b0d1bba7",
   "metadata": {},
   "outputs": [],
   "source": [
    "a = int(input(\"Enter a number : \"))\n",
    "b = int(input(\"Enter a number : \"))\n",
    "if a>b:\n",
    "    print(\"a is greater than b\")\n",
    "else:\n",
    "    print(\"b is greater than a\") "
   ]
  },
  {
   "cell_type": "markdown",
   "id": "54be9abd",
   "metadata": {},
   "source": [
    "# if-elif-else"
   ]
  },
  {
   "cell_type": "code",
   "execution_count": null,
   "id": "06ee3ba4",
   "metadata": {},
   "outputs": [],
   "source": [
    "a = int(input(\"Enter Marks : \"))\n",
    "\n",
    "if a>=85:\n",
    "    print(\"A+ Grade\")\n",
    "elif (a < 85) and (a >= 80):\n",
    "    print(\"A Grade\")\n",
    "elif (a<80) and (a>=75):\n",
    "    print(\"B+ Grade\")\n",
    "elif (a<75) and (a>=70):\n",
    "    print(\"B- Grade\")\n",
    "else:\n",
    "    print(\"Below Average\")\n",
    "    "
   ]
  },
  {
   "cell_type": "code",
   "execution_count": null,
   "id": "a26a8d46",
   "metadata": {},
   "outputs": [],
   "source": [
    "#implement else part without actually else\n",
    "\n",
    "a = int(input(\"Enter a number : \"))\n",
    "\n",
    "if a>15:\n",
    "    print(\"A is greater than 15\")\n",
    "elif not(a>15):\n",
    "    print(\"Else part\")"
   ]
  },
  {
   "cell_type": "markdown",
   "id": "ebff83a7",
   "metadata": {},
   "source": [
    "# Nested if"
   ]
  },
  {
   "cell_type": "code",
   "execution_count": null,
   "id": "50100454",
   "metadata": {},
   "outputs": [],
   "source": [
    "a = int(input(\"Enter a number : \"))\n",
    "if a>20:\n",
    "    print(\"a is greater than 20\")\n",
    "    if a%2==0:\n",
    "        print(\"a is an even number\")\n",
    "    else:\n",
    "        print(\"a is odd number\")\n",
    "else:\n",
    "    print(\"a is not greater than 10\")\n"
   ]
  },
  {
   "cell_type": "code",
   "execution_count": null,
   "id": "c41edd97",
   "metadata": {
    "scrolled": true
   },
   "outputs": [],
   "source": [
    "#single line command\n",
    "\"\"\" \n",
    "User will enter a floating point number let say 238.915. Your task\n",
    "is to find out the integer portion before the point (in this case 238)\n",
    "and then check if that integer portion is an even number or not?\n",
    "\"\"\"\n",
    "\n",
    "x = float(input(\"Enter a real number : \"))\n",
    "y = round(x)\n",
    "if x>0:    \n",
    "    if y>x:\n",
    "        intPortion = y-1 \n",
    "    else:\n",
    "        intPortion = y\n",
    "else:\n",
    "    if y<x:\n",
    "        intPortion = y+1\n",
    "    else:\n",
    "        intPortion = y\n",
    "\n",
    "print(\"Number is :\", intportion)\n",
    "\n",
    "if intportion%2 == 0:\n",
    "    print(intportion , \" is even\")\n",
    "else:\n",
    "    print(intportion , \"is odd\")\n",
    " \n"
   ]
  },
  {
   "cell_type": "code",
   "execution_count": null,
   "id": "2f1eb9ed",
   "metadata": {},
   "outputs": [],
   "source": [
    "round(-10)"
   ]
  },
  {
   "cell_type": "markdown",
   "id": "653246e7",
   "metadata": {},
   "source": [
    "# Control Flow (Loops)\n",
    "\n",
    "# while loop"
   ]
  },
  {
   "cell_type": "code",
   "execution_count": null,
   "id": "ec2da208",
   "metadata": {},
   "outputs": [],
   "source": [
    "n = int(input(\"Enter a number\"))\n",
    "i =  1\n",
    "while i<n:\n",
    "    print(i**2)\n",
    "    print(\"This is iteration number :\",i)\n",
    "    i =  i+1\n",
    "print(\"Loop done\")\n",
    "\n",
    "    "
   ]
  },
  {
   "cell_type": "code",
   "execution_count": null,
   "id": "a29b8a31",
   "metadata": {},
   "outputs": [],
   "source": [
    "n = int(input(\"Max Iterations : \"))\n",
    "i = 5\n",
    "while i< n:\n",
    "    if i%2==0: \n",
    "        print(i)\n",
    "    else:\n",
    "        pass\n",
    "    i += 1\n",
    "print(\"done\")"
   ]
  },
  {
   "cell_type": "code",
   "execution_count": null,
   "id": "fd95003e",
   "metadata": {},
   "outputs": [],
   "source": [
    "n = int(input(\"Enter a number : \"))\n",
    "i = 1\n",
    "while True:\n",
    "    print(\"I Love Coding\")\n",
    "    i=i+1\n",
    "print(\"Something it feels boring\")\n",
    "\n",
    "\n",
    "\n"
   ]
  },
  {
   "cell_type": "markdown",
   "id": "57a08921",
   "metadata": {},
   "source": [
    "# while loop using break and continue"
   ]
  },
  {
   "cell_type": "code",
   "execution_count": null,
   "id": "cd8b2d02",
   "metadata": {},
   "outputs": [],
   "source": [
    "#break --> exit the loop and comes out of the loop  \n",
    "#continue --> skip the iteration \n",
    "\n",
    "n = int(input(\"Enter a number : \"))\n",
    "i = 1\n",
    "while True: #always get into the loop\n",
    "    if i%9 == 0:\n",
    "        print(\"Ajay print hua..\")\n",
    "        break\n",
    "    else:\n",
    "        print(\"Ajay print nhi hua..\")\n",
    "        i= i+1\n",
    "print(\"Tera Kaam ho gaya\")        \n",
    "        \n",
    "        \n"
   ]
  },
  {
   "cell_type": "code",
   "execution_count": null,
   "id": "1271e047",
   "metadata": {},
   "outputs": [],
   "source": [
    "n = 10\n",
    "i = 1\n",
    "while True:\n",
    "    if i%9 != 0:\n",
    "        print(\"inside if\")\n",
    "        i +=1\n",
    "        continue\n",
    "    print(\"something\")\n",
    "    print(\"somethingelse\")\n",
    "    break\n",
    "    \n",
    "print(\"done\")"
   ]
  },
  {
   "cell_type": "markdown",
   "id": "d023019b",
   "metadata": {},
   "source": [
    "# For Loop\n"
   ]
  },
  {
   "cell_type": "code",
   "execution_count": null,
   "id": "e6b6e02d",
   "metadata": {},
   "outputs": [],
   "source": [
    "#List is represented by L=[] --> separated by commas\n",
    "#range() is used to show the series of number\n",
    "#range can be represented by (0,10,2) where 0 is start of series which is not included and 10 is end which is not included and 2 represent the jump\n",
    "\n",
    "L = []\n",
    "for i in range(10): #start from 0\n",
    "    print(i+1)\n",
    "    L.append(i**2)\n",
    "print(L)"
   ]
  },
  {
   "cell_type": "code",
   "execution_count": null,
   "id": "ee0015b4",
   "metadata": {},
   "outputs": [],
   "source": [
    "#range can be represented by (0,10,2) where 0 is start of series which is not included and 10 is end which is not included and 2 represent the jump\n",
    "L = []\n",
    "for i in range(0,20,3):\n",
    "    print(i)\n",
    "    L.append(i**2)\n",
    "print(L)\n",
    "\n"
   ]
  },
  {
   "cell_type": "code",
   "execution_count": null,
   "id": "34292775",
   "metadata": {},
   "outputs": [],
   "source": [
    "#ELSE IN FOR LOOP"
   ]
  },
  {
   "cell_type": "code",
   "execution_count": null,
   "id": "57819eee",
   "metadata": {},
   "outputs": [],
   "source": [
    "#S represents Sets in Python\n",
    "\n",
    "S = { \"Ajay\" , \"91.20\" , \"Mango\"}\n",
    "for x in S:\n",
    "    print(x)\n",
    "else:\n",
    "    print(\"Loop  Completes its iterations\")"
   ]
  },
  {
   "cell_type": "code",
   "execution_count": null,
   "id": "f2b6b116",
   "metadata": {},
   "outputs": [],
   "source": [
    "#D represents Dictionary in Python\n",
    "\n",
    "D = {\"Ajay\":92 , \"Vinay\":\"Apple\"}\n",
    "for x in D:\n",
    "    print(x,D[x])"
   ]
  },
  {
   "cell_type": "code",
   "execution_count": null,
   "id": "bfc19b53",
   "metadata": {},
   "outputs": [],
   "source": [
    "\"\"\" Minimum Number change with first number\n",
    "\"\"\"\n",
    "\n",
    "L = [1,2,4,-5,7,9,3,2]\n",
    "\n",
    "m = L[0]\n",
    "idx = 0\n",
    "c = 0\n",
    "for i in L:\n",
    "    if i<m:\n",
    "        m = i\n",
    "        idx = c\n",
    "    c+=1\n",
    "temp = L[0]\n",
    "L[0] = m\n",
    "L[idx] = temp\n",
    "print(L)"
   ]
  },
  {
   "cell_type": "code",
   "execution_count": null,
   "id": "8ba29dc7",
   "metadata": {},
   "outputs": [],
   "source": [
    "\"\"\" Given a list of numbers i.e. [1,2,4,-5,7,9,3,2], make another list\n",
    "that contains all the items in sorted order from min to max. i.e. your \n",
    "result will be another list like [-5,1,2,2,3,4,7,9]\n",
    "\"\"\"\n",
    "\n",
    "L = [1,2,4,-5,7,9,3,2]\n",
    "for j in range(len(L)):\n",
    "    m = L[j]\n",
    "    idx = j\n",
    "    c = j\n",
    "    for i in range(j,len(L)):\n",
    "        if L[i]<m:\n",
    "            m = L[i]\n",
    "            idx = c\n",
    "        c+=1    \n",
    "    tmp = L[j]\n",
    "    L[j] = m\n",
    "    L[idx] = tmp\n",
    "print(L)\n"
   ]
  },
  {
   "cell_type": "markdown",
   "id": "a284dcf1",
   "metadata": {},
   "source": [
    "# Functions\n"
   ]
  },
  {
   "cell_type": "code",
   "execution_count": null,
   "id": "319d7bbe",
   "metadata": {},
   "outputs": [],
   "source": [
    "def Gmean(a,b):       #defining the function\n",
    "    mean = (a*b)/(a+b)\n",
    "    print(mean)\n",
    "    \n",
    "def isGreater(a,b):\n",
    "    if(a>b):\n",
    "        print(\"a is greater then b\")\n",
    "    else:\n",
    "        print(\"b is greater then a\")\n",
    "\n",
    "        \n",
    "a = int(input(\"Enter a number\"))\n",
    "b = int(input(\"Enter a number\"))\n",
    "Gmean(a,b)    #Calling the function\n",
    "isGreater(a,b)"
   ]
  },
  {
   "cell_type": "code",
   "execution_count": null,
   "id": "05b347af",
   "metadata": {},
   "outputs": [],
   "source": [
    "#Function Arguments and return statement\n",
    "\n",
    "\"\"\"\n",
    "1) Default Argument\n",
    "We can provide a default value while creating a function.\n",
    "This way the function assumes a default value even if a value is not provided in the function call for that argument.\n",
    "\"\"\"\n",
    "\n",
    "def name(fname=\"Ajay\", mname=\"Dinesh\", lname = \"Sharma\"):\n",
    "    print(\"Hello\", fname ,mname ,lname)\n",
    "    \n",
    "name(\"Anish\",\"Madhav\",\"Raju\")    \n",
    "\n"
   ]
  },
  {
   "cell_type": "code",
   "execution_count": null,
   "id": "fb34679c",
   "metadata": {},
   "outputs": [],
   "source": [
    "\"\"\"\n",
    "2)Keyword arguments\n",
    "We can provide arguments with key = value, this way the interpreter recognizes\n",
    "the arguments by the parameter name.\n",
    "Hence, the the order in which the arguments are passed does not matter.\n",
    "\"\"\"\n",
    "\n",
    "def name(fname, mname, lname):\n",
    "    print(\"Hello,\", fname, mname, lname)\n",
    "\n",
    "name(mname = \"Peter\", lname = \"Wesker\", fname = \"Jade\")"
   ]
  },
  {
   "cell_type": "code",
   "execution_count": null,
   "id": "b654094e",
   "metadata": {},
   "outputs": [],
   "source": [
    "\"\"\"\n",
    "3)Required arguments:\n",
    "In case we don’t pass the arguments with a key = value syntax, then it is necessary to pass the arguments in the correct positional \n",
    "order and the number of arguments passed should match with actual function definition.\n",
    "\"\"\"\n",
    "#kam se kam 2 values toh denne hi hogi ek apne ap ho jaaega\n",
    "\n",
    "def average(a,b,c=1):\n",
    "    mean = (a+b+c)/3\n",
    "    print(\"The average is :\", mean)\n",
    "    \n",
    "average(a=4,b=6)\n"
   ]
  },
  {
   "cell_type": "code",
   "execution_count": null,
   "id": "fa7d9cc8",
   "metadata": {},
   "outputs": [],
   "source": [
    "\"\"\"\n",
    "4) Arbitrary Arguments:\n",
    "While creating a function, pass a * before the parameter name while defining the function.\n",
    "The function accesses the arguments by processing them in the form of tuple.\n",
    "\"\"\"\n",
    "\n",
    "def average(*numbers):  # * indicates tuple\n",
    "    print(type(numbers))\n",
    "    sum =0\n",
    "    for i in numbers:\n",
    "        sum = sum + i\n",
    "    print(\"The average is :\" , sum/len(numbers))\n",
    "    \n",
    "average(7,8,9,3)    \n",
    "    "
   ]
  },
  {
   "cell_type": "code",
   "execution_count": null,
   "id": "00407464",
   "metadata": {
    "scrolled": true
   },
   "outputs": [],
   "source": [
    "\"\"\"\n",
    "5) return Statement\n",
    "The return statement is used to return the value of the expression\n",
    "back to the calling function.\n",
    "\"\"\"\n",
    "\n",
    "def average(*numbers):  # * indicates tuple\n",
    "    print(type(numbers))\n",
    "    sum =0\n",
    "    for i in numbers:\n",
    "        sum = sum + i\n",
    "    return sum/len(numbers) \n",
    "\n",
    "c = average(6,3,9,7) #return statement ka value calling function ko milta hai\n",
    "print(c)\n",
    "\n"
   ]
  },
  {
   "cell_type": "markdown",
   "id": "e06dd6de",
   "metadata": {},
   "source": [
    "# Strings\n"
   ]
  },
  {
   "cell_type": "code",
   "execution_count": null,
   "id": "b78320de",
   "metadata": {},
   "outputs": [],
   "source": [
    "name = \"Ajay\"\n",
    "Job = \" Engineer\"\n",
    "\n",
    "print(\"Hello, \" + name)\n",
    "\n",
    "# multiple line string\n",
    "\n",
    "apple = ''' He said, \n",
    "Hi Harry \n",
    "Hey I am Good\n",
    "\"I want to eat an apple\" '''\n",
    "print(apple)\n",
    "\n",
    "\n",
    "#string is like a sequence  of character/array...\n",
    "print(name[0])   #string indexing starts from 0\n",
    "print(name[1])\n",
    "print(name[2])\n",
    "print(name[3])\n",
    "#print(name[4])   #throws an error\n",
    "\n",
    "\n",
    "\n",
    "#for loop through the string\n",
    "print(\"Lets use a for loop\")\n",
    "for character in apple:\n",
    "    print(character)"
   ]
  },
  {
   "cell_type": "markdown",
   "id": "c1a07564",
   "metadata": {},
   "source": [
    "# String Slicing"
   ]
  },
  {
   "cell_type": "code",
   "execution_count": null,
   "id": "7414f8c5",
   "metadata": {},
   "outputs": [],
   "source": [
    "fruit = \"Mango\"  #indexing starts from 0\n",
    "len1 = len(fruit)\n",
    "print( len1)\n",
    "\n",
    "print(fruit[0:4]) #including 0 but not 4\n",
    "print(fruit[1:4]) #including 1 but not 4\n",
    "print(fruit[:5]) #default indexing starts from 0\n",
    "print(fruit[0:-3])\n",
    "#print(fruit[0:len(fruit)-3])\n",
    "\n",
    "\n",
    "#negative indexing\n",
    "print(fruit[-1:-3])\n",
    "print(fruit[-3:-1]) #print(fruit[-3 len(fruit): len(fruit)]-1)\n",
    "\n",
    "\n",
    "print(fruit[4])\t#returns character at specified index\n",
    "\n",
    "\n"
   ]
  },
  {
   "cell_type": "code",
   "execution_count": null,
   "id": "4df4c3f6",
   "metadata": {},
   "outputs": [],
   "source": [
    "nm = \"Harry\"\n",
    "\n",
    "print(nm[-4:-2])"
   ]
  },
  {
   "cell_type": "markdown",
   "id": "7b53363f",
   "metadata": {},
   "source": [
    "# String Method"
   ]
  },
  {
   "cell_type": "code",
   "execution_count": null,
   "id": "173e75f3",
   "metadata": {},
   "outputs": [],
   "source": [
    "#Strings are immutable i.e we can't change it\n",
    "\n",
    "a = \"Ajay\"\n",
    "print(len(a))\n",
    "print(a.upper())\n",
    "print(a.lower())\n",
    "\n",
    "\n",
    "b = \"!! Raju !!!!!!!\"\n",
    "print(b.rstrip(\"!\"))  # rstrip() removes only trailing character and not the  leading character\n",
    "\n",
    "print(b.replace(\"Raju\",\"Harsh\")) #replace() replaces all occurence of a string\n",
    "\n",
    "print(b.split()) #split() --> splits the elements in form of list\n",
    "\n",
    "#capitalize() converts the only first character to upper and convert the rest to lower case\n",
    "H = \"introduction to world of ml\"\n",
    "print(H.capitalize())\n",
    "\n",
    "#center()  aligns the string to the center\n",
    "\n",
    "print(H.center(50))"
   ]
  },
  {
   "cell_type": "code",
   "execution_count": null,
   "id": "71079a2a",
   "metadata": {},
   "outputs": [],
   "source": [
    "str1 = \"Welcome to the Console !!!\"\n",
    "print(str1.endswith(\"!!!\")) #it checks and return boolean value\n",
    "\n",
    "\n",
    "# find() represents first occurence of the given value and tells us at wwhat index it is present and if not found simply returns -1\n",
    "str1 = \"He's name is Dan. He is an honest man.\"\n",
    "print(str1.find(\"ishh\"))\n",
    "\n",
    "\n",
    "#The isalnum() method returns True only if the entire string only\n",
    "#consists of A-Z, a-z, 0-9. If any other characters or punctuations are present, then it returns False.\n",
    "\n",
    "str1 = \"WelcomeToTheConsole\"\n",
    "print(str1.isalnum())\n",
    "\n",
    "\n",
    "\n",
    "#If any other characters or punctuations or numbers(0-9) are present, then it returns False.\n",
    "str1 = \"Welcome00\"\n",
    "print(str1.isalpha())\n",
    "\n",
    "\n",
    "\n"
   ]
  },
  {
   "cell_type": "code",
   "execution_count": null,
   "id": "b840e352",
   "metadata": {},
   "outputs": [],
   "source": [
    "str1 = \"hello world\"\n",
    "print(str1.islower())\n",
    "\n",
    "str1 = \"We wish you a Merry Christmas\\n\"\n",
    "print(str1.isprintable())\n",
    "str1 = \"         \"       #using Spacebar\n",
    "print(str1.isspace())\n",
    "str2 = \"  \"       #using Tab\n",
    "print(str2.isspace())\n",
    "\n",
    "str1 = \"World Health Organization\" \n",
    "print(str1.istitle()) #returns true if the first letter is capitalize\n",
    "\n",
    "str2 = \"To kill a Mocking bird\"\n",
    "print(str2.istitle())\n",
    "\n",
    "str1 = \"Python is a Interpreted Language\" \n",
    "print(str1.startswith(\"Python\"))  #returns true if the string starts with the given value\n",
    "\n",
    "str1 = \"Python is a Interpreted Language\" \n",
    "print(str1.swapcase()) #swap lower case to upper case and vice versa\n",
    "\n",
    "str1 = \"His name is Dan. Dan is an honest man.\"\n",
    "print(str1.title())  #The title() method capitalizes each letter of the word within the string."
   ]
  },
  {
   "cell_type": "markdown",
   "id": "11edc0fa",
   "metadata": {},
   "source": [
    "# Lists\n"
   ]
  },
  {
   "cell_type": "code",
   "execution_count": null,
   "id": "aafb9fdc",
   "metadata": {},
   "outputs": [],
   "source": [
    "#lists --> items are enclosed in [] brackets  and are seprated by commas\n",
    "\n",
    "L = [\"Ajay\", \"Sachin\" , \"Dipesh\"] #indexing always start from 0\n",
    "Marks = [6 ,8 ,3]\n",
    "\n",
    "print(L)\n",
    "print(Marks)\n",
    "\n",
    "print(type(Marks))\n",
    "\n",
    "print(L[2])"
   ]
  },
  {
   "cell_type": "code",
   "execution_count": null,
   "id": "b47ec63e",
   "metadata": {},
   "outputs": [],
   "source": [
    "#Lists are changeable\n",
    "#we can add any data type in lists\n",
    "\n",
    "G = [\"Arjun\" , 9 , True, 3.988 , \"Ajay\" , ]"
   ]
  },
  {
   "cell_type": "code",
   "execution_count": null,
   "id": "4fcdaeca",
   "metadata": {},
   "outputs": [],
   "source": [
    "print(G)\n",
    "\n",
    "print(G[0])\n",
    "print(G[1])\n",
    "print(G[2])\n",
    "print(G[3])\n",
    "\n",
    "\n",
    "\n",
    "\n",
    "#Negative Indexing\n",
    "print(G[-3]) \n",
    "print(G[len(G)-3]) #Positive Index\n",
    "print(G[4-3])   #Positive Index\n",
    "print(G[1])    #Positive Index"
   ]
  },
  {
   "cell_type": "code",
   "execution_count": null,
   "id": "a40d76cd",
   "metadata": {},
   "outputs": [],
   "source": [
    "if 9 in G:\n",
    "    print(\"Yes\")\n",
    "else:\n",
    "    print(\"No\")\n",
    "\n",
    "    \n",
    "#Same Thing apply for string also\n",
    "if \"Arj\" in G:\n",
    "    print(\"Yes\")\n",
    "else:\n",
    "    print(\"No\")"
   ]
  },
  {
   "cell_type": "code",
   "execution_count": null,
   "id": "fd92ecac",
   "metadata": {},
   "outputs": [],
   "source": [
    "#we can also print range in list\n",
    "\n",
    "#  listName[start : end : JumpIndex]\n",
    "\n",
    "animals = [\"cat\", \"dog\", \"bat\", \"mouse\", \"pig\", \"horse\", \"donkey\", \"goat\", \"cow\"]\n",
    "print(len(animals))\n",
    "print(animals[::2])\t\t#using positive indexes\n",
    "print(animals[-8:-1:3])\t#using negative indexes"
   ]
  },
  {
   "cell_type": "code",
   "execution_count": null,
   "id": "7d1b74c6",
   "metadata": {},
   "outputs": [],
   "source": [
    "#list Comprehension\n",
    "\n",
    "lst = [i*i for i in range(10)]\n",
    "print(lst)\n",
    "\n",
    "lst1 = [i*i for i in range(10) if i%2==0]\n",
    "print(lst1)\n",
    "       "
   ]
  },
  {
   "cell_type": "markdown",
   "id": "e36deca9",
   "metadata": {},
   "source": [
    "# List Method"
   ]
  },
  {
   "cell_type": "code",
   "execution_count": null,
   "id": "548d3bab",
   "metadata": {},
   "outputs": [],
   "source": [
    " l = [13, 7,4,96,23]\n",
    "print(l)\n",
    "\n",
    "l.append(54) #Add elemnt in the list\n",
    "print(l)\n",
    "\n",
    "l.sort() #print list in ascending order\n",
    "print(l)\n",
    "\n",
    "l.sort(reverse = True)\n",
    "print(l)\n",
    "\n",
    "l.reverse()  # reverse the entire list\n",
    "\n",
    "print(l.index(96))  #print the elemnets which is present at list 1\n",
    "\n",
    "\n",
    "m = l.copy() #makes copy of that list and hence make operation on it\n",
    "m[0] = 90\n",
    "print(m)\n",
    "\n",
    "\n",
    "l.insert(2,876) #insert elememt at that position in the list\n",
    "print(l)\n",
    "\n",
    "p = [65,89,90,43]  #adding p list element in the list l\n",
    "l.extend(p)\n",
    "print(l)\n"
   ]
  },
  {
   "cell_type": "markdown",
   "id": "d16f977f",
   "metadata": {},
   "source": [
    "# Tuples"
   ]
  },
  {
   "cell_type": "code",
   "execution_count": null,
   "id": "696510f0",
   "metadata": {},
   "outputs": [],
   "source": [
    "#Tuples --> items are enclosed in () brackets  and are seprated by commas\n",
    "# Tuples are immutable ---> value , length ,elements can't change once declare \n",
    "# we can add value of different datatype\n",
    "\n",
    "tup = (48, 83 , 90 ,32)\n",
    "print(tup)\n",
    "print(tup[1])\n",
    "print(tup[2])\n",
    "\n",
    "tup = ()  #inorder to make empty tuple\n",
    "print(type(tup))\n",
    "\n",
    "\n",
    "# positive and negative indexing is same as list and string\n",
    "\n",
    "\n",
    "#check for items\n",
    "\n",
    "x = int(input(\"Enter a number : \"))\n",
    "if x in tup:\n",
    "    print( x , \" is  present at in list\")\n",
    "else:\n",
    "    print(\"It is not present\")\n",
    "    \n",
    "\n",
    "#Range is same as that of the list  \n",
    "#syntax --> Tuple[start : end : jumpIndex]\n"
   ]
  },
  {
   "cell_type": "markdown",
   "id": "82581d15",
   "metadata": {},
   "source": [
    "# Tuples Method"
   ]
  },
  {
   "cell_type": "code",
   "execution_count": null,
   "id": "88a6b97a",
   "metadata": {},
   "outputs": [],
   "source": [
    "#Tuples sre immutable, to make any changes we have to convert tuples to list and hence make  operation again covert back to tuple\n",
    "\n",
    "countries = (\"Spain\", \"Italy\", \"India\", \"England\", \"Germany\")\n",
    "temp = list(countries)\n",
    "temp.append(\"Russia\")       #add item \n",
    "temp.pop(3)                 #remove item\n",
    "temp[2] = \"Finland\"         #change item\n",
    "countries = tuple(temp)\n",
    "print(countries)\n",
    "\n",
    "\n",
    "#We Can Concatenate Two Tuples\n",
    "countries = (\"Pakistan\", \"Afghanistan\", \"Bangladesh\", \"ShriLanka\")\n",
    "countries2 = (\"Vietnam\", \"India\", \"China\")\n",
    "southEastAsia = countries + countries2\n",
    "print(southEastAsia)"
   ]
  },
  {
   "cell_type": "code",
   "execution_count": null,
   "id": "c8125200",
   "metadata": {},
   "outputs": [],
   "source": [
    "tup1 = (45 , 89, 65, 65, 23 ,84 ,66)\n",
    "res = tup1.count(65) #count the number of occurence of element\n",
    "print(res)\n"
   ]
  },
  {
   "cell_type": "code",
   "execution_count": null,
   "id": "a2e1c31c",
   "metadata": {},
   "outputs": [],
   "source": [
    "#tuple.index(element, start, end) --> syntax\n",
    "#The Index() method returns the first occurrence of the given element from the tuple.\n",
    "tup1 = (45 , 89, 65, 65, 23 ,84 ,66)\n",
    "res = tup1.index(84) \n",
    "print(res)\n",
    "\n"
   ]
  },
  {
   "cell_type": "markdown",
   "id": "b7b0ad1a",
   "metadata": {},
   "source": [
    "# Sets"
   ]
  },
  {
   "cell_type": "code",
   "execution_count": 1,
   "id": "5f5676c0",
   "metadata": {},
   "outputs": [
    {
     "name": "stdout",
     "output_type": "stream",
     "text": [
      "{9, 4, 5, 7}\n",
      "<class 'set'>\n",
      "False\n",
      "19\n",
      "Carla\n",
      "5.9\n"
     ]
    }
   ],
   "source": [
    "#Set items are separated by commas and enclosed within curly brackets {}.\n",
    "#Sets are unchangeable, meaning you cannot change items of the set once created.\n",
    "#Sets do not contain duplicate items.\n",
    "\n",
    "s = {7,4,9,5,7} #can't take repeated values , order is not maintain in the output\n",
    "print(s)\n",
    "\n",
    "\n",
    "ajay = set()  #inorder to make empty set\n",
    "print(type(ajay))\n",
    "\n",
    "\n",
    "#You can access items of set using a for loop.\n",
    "info = {\"Carla\", 19, False, 5.9}\n",
    "for item in info:\n",
    "    print(item)\n"
   ]
  },
  {
   "cell_type": "markdown",
   "id": "a3e01826",
   "metadata": {},
   "source": [
    "# Sets Method"
   ]
  },
  {
   "cell_type": "code",
   "execution_count": 1,
   "id": "9a3537b6",
   "metadata": {},
   "outputs": [
    {
     "name": "stdout",
     "output_type": "stream",
     "text": [
      "{'Berlin', 'Madrid', 'Kabul', 'Tokyo', 'Seoul', 'Delhi'}\n",
      "{'Berlin', 'Madrid', 'Kabul', 'Tokyo', 'Seoul', 'Delhi'}\n"
     ]
    }
   ],
   "source": [
    "#The union() and update() methods prints all items that are present in the two sets.\n",
    "#The union() method returns a new set whereas update() method adds item into the existing set from another set.\n",
    "\n",
    "\n",
    "cities = {\"Tokyo\", \"Madrid\", \"Berlin\", \"Delhi\"}\n",
    "cities2 = {\"Tokyo\", \"Seoul\", \"Kabul\", \"Madrid\"}\n",
    "cities3 = cities.union(cities2)\n",
    "print(cities3)\n",
    "\n",
    "cities.update(cities2)\n",
    "print(cities)\n",
    "\n"
   ]
  },
  {
   "cell_type": "code",
   "execution_count": 2,
   "id": "f3aff287",
   "metadata": {},
   "outputs": [
    {
     "name": "stdout",
     "output_type": "stream",
     "text": [
      "{'Tokyo', 'Madrid'}\n",
      "{'Tokyo', 'Madrid'}\n"
     ]
    }
   ],
   "source": [
    "#The intersection() and intersection_update() methods prints only items that are similar to both the sets.\n",
    "\n",
    "cities = {\"Tokyo\", \"Madrid\", \"Berlin\", \"Delhi\"}\n",
    "cities2 = {\"Tokyo\", \"Seoul\", \"Kabul\", \"Madrid\"}\n",
    "cities3 = cities.intersection(cities2)\n",
    "print(cities3)\n",
    "\n",
    "cities.intersection_update(cities2)\n",
    "print(cities)\n"
   ]
  },
  {
   "cell_type": "code",
   "execution_count": 7,
   "id": "e11ed80f",
   "metadata": {},
   "outputs": [
    {
     "name": "stdout",
     "output_type": "stream",
     "text": [
      "{'Berlin', 'Kabul', 'Seoul', 'Delhi'}\n",
      "{'Berlin', 'Tokyo', 'Madrid'}\n"
     ]
    }
   ],
   "source": [
    "#symmetric difference prints that values we are not present in both the sets.\n",
    "\n",
    "\n",
    "cities = {\"Tokyo\", \"Madrid\", \"Berlin\", \"Delhi\"}\n",
    "cities2 = {\"Tokyo\", \"Seoul\", \"Kabul\", \"Madrid\"}\n",
    "cities3 = cities.symmetric_difference(cities2)\n",
    "print(cities3)\n",
    "\n",
    "\n",
    "\n",
    "#Difference between two sets\n",
    "\n",
    "cities = {\"Tokyo\", \"Madrid\", \"Berlin\", \"Delhi\"}\n",
    "cities2 = {\"Seoul\", \"Kabul\", \"Delhi\"}\n",
    "cities3 = cities.difference(cities2)\n",
    "print(cities3)\n"
   ]
  },
  {
   "cell_type": "code",
   "execution_count": 8,
   "id": "a50533de",
   "metadata": {},
   "outputs": [
    {
     "name": "stdout",
     "output_type": "stream",
     "text": [
      "False\n"
     ]
    }
   ],
   "source": [
    "#The isdisjoint() method checks if items of given set are present in another set.\n",
    "#This method returns False if items are present, else it returns True.\n",
    "\n",
    "cities = {\"Tokyo\", \"Madrid\", \"Berlin\", \"Delhi\"}\n",
    "cities2 = {\"Tokyo\", \"Seoul\", \"Kabul\", \"Madrid\"}\n",
    "print(cities.isdisjoint(cities2))"
   ]
  },
  {
   "cell_type": "code",
   "execution_count": 10,
   "id": "057cb084",
   "metadata": {},
   "outputs": [
    {
     "name": "stdout",
     "output_type": "stream",
     "text": [
      "False\n",
      "True\n"
     ]
    }
   ],
   "source": [
    "#The issuperset() method checks if all the items of a particular set are present in the original set.\n",
    "cities = {\"Tokyo\", \"Madrid\", \"Berlin\", \"Delhi\"}\n",
    "cities2 = {\"Seoul\", \"Kabul\"}\n",
    "print(cities.issuperset(cities2))\n",
    "cities3 = {\"Tokyo\", \"Madrid\"}  #saare elements hone chahiye aise nhi  ki ek ho aur dusra nhi!! \n",
    "print(cities.issuperset(cities3))\n"
   ]
  },
  {
   "cell_type": "code",
   "execution_count": 11,
   "id": "44f253ae",
   "metadata": {},
   "outputs": [
    {
     "name": "stdout",
     "output_type": "stream",
     "text": [
      "True\n"
     ]
    }
   ],
   "source": [
    "#The issubset() method checks if all the items of the original set are present in the particular set.\n",
    "#It returns True if all the items are present, else it returns False.\n",
    "\n",
    "\n",
    "cities = {\"Tokyo\", \"Madrid\", \"Berlin\", \"Delhi\"}\n",
    "cities2 = {\"Delhi\", \"Madrid\"}\n",
    "print(cities2.issubset(cities))\n"
   ]
  },
  {
   "cell_type": "code",
   "execution_count": 13,
   "id": "a45bce0f",
   "metadata": {},
   "outputs": [
    {
     "name": "stdout",
     "output_type": "stream",
     "text": [
      "{'Berlin', 'Helsinki', 'Madrid', 'Tokyo', 'Delhi'}\n",
      "{'Berlin', 'Delhi', 'Madrid'}\n"
     ]
    }
   ],
   "source": [
    "#If you want to add a single item to the set use the add() method.\n",
    "\n",
    "\n",
    "cities = {\"Tokyo\", \"Madrid\", \"Berlin\", \"Delhi\"}\n",
    "cities.add(\"Helsinki\")\n",
    "print(cities)\n",
    "\n",
    "\n",
    "#We can use remove() and discard() methods to remove items form list.\n",
    "\n",
    "cities = {\"Tokyo\", \"Madrid\", \"Berlin\", \"Delhi\"}\n",
    "cities.remove(\"Tokyo\")\n",
    "print(cities)\n",
    "\n",
    "\n",
    "\n",
    "\"\"\"\n",
    "The main difference between remove and discard is that, if we try to delete an item which is not present in set,\n",
    "then remove() raises an error, whereas discard() does not raise any error.\"\"\"\n"
   ]
  },
  {
   "cell_type": "code",
   "execution_count": 17,
   "id": "8bd20bf8",
   "metadata": {},
   "outputs": [
    {
     "name": "stdout",
     "output_type": "stream",
     "text": [
      "{'Tokyo', 'Delhi', 'Madrid'}\n",
      "Berlin\n",
      "set()\n"
     ]
    }
   ],
   "source": [
    "#pop() --> This method removes the last item of the set but the catch is that we don’t know which item gets popped as sets are unordered.\n",
    "cities = {\"Tokyo\", \"Madrid\", \"Berlin\", \"Delhi\"}\n",
    "item = cities.pop()\n",
    "print(cities)\n",
    "print(item)\n",
    "\n",
    "\n",
    "\n",
    "#clear()--> This method clears all items in the set and prints an empty set.\n",
    "cities = {\"Tokyo\", \"Madrid\", \"Berlin\", \"Delhi\"}\n",
    "cities.clear()\n",
    "print(cities)\n",
    "\n"
   ]
  },
  {
   "cell_type": "code",
   "execution_count": 22,
   "id": "72dcd1a9",
   "metadata": {},
   "outputs": [
    {
     "name": "stdout",
     "output_type": "stream",
     "text": [
      "set()\n"
     ]
    }
   ],
   "source": [
    "#del ---> del is not a method, rather it is a keyword which deletes the set entirely.\n",
    "\n",
    "\n",
    "#clear() -->  This method clears all items in the set and prints an empty set.\n",
    "cities = {\"Tokyo\", \"Madrid\", \"Berlin\", \"Delhi\"}\n",
    "cities.clear()\n",
    "print(cities)\n"
   ]
  },
  {
   "cell_type": "markdown",
   "id": "29b8c9fb",
   "metadata": {},
   "source": [
    "# Dictionary"
   ]
  },
  {
   "cell_type": "code",
   "execution_count": 26,
   "id": "33a376f4",
   "metadata": {},
   "outputs": [
    {
     "name": "stdout",
     "output_type": "stream",
     "text": [
      "{'Ajay': 'Engineer', 'Experience ': 'Developer'}\n",
      "Engineer\n"
     ]
    }
   ],
   "source": [
    "#Dictionary items are key-value pairs that are separated by commas and enclosed within curly brackets {}.\n",
    "#Dictionary items  can be ordered or unordered\n",
    "dic = {\n",
    "    'Ajay' : 'Engineer' ,\n",
    "    'Experience ' : 'Developer'    \n",
    "}\n",
    "\n",
    "print(dic)\n",
    "\n",
    "print(dic[\"Ajay\"])"
   ]
  },
  {
   "cell_type": "code",
   "execution_count": 31,
   "id": "542ad0de",
   "metadata": {},
   "outputs": [
    {
     "name": "stdout",
     "output_type": "stream",
     "text": [
      "None\n"
     ]
    }
   ],
   "source": [
    "roll = {\n",
    "    453 :\"Ajay\",\n",
    "    674 : \"Dipesh\", \n",
    "    892 : \"Vinay\"\n",
    "}\n",
    "\n",
    "#print(roll[893])  #throws error if not present\n",
    "print(roll.get(893)) #not throws  error"
   ]
  },
  {
   "cell_type": "code",
   "execution_count": 39,
   "id": "61cf0faf",
   "metadata": {},
   "outputs": [
    {
     "name": "stdout",
     "output_type": "stream",
     "text": [
      "dict_keys(['Ajay', 'Experience '])\n",
      "dict_items([('Ajay', 'Engineer'), ('Experience ', 'Developer')])\n",
      "dict_values(['Engineer', 'Developer'])\n",
      "Engineer\n",
      "Developer\n"
     ]
    }
   ],
   "source": [
    "#Accessing mutiple values\n",
    "\n",
    "dic = {\n",
    "    'Ajay' : 'Engineer' ,\n",
    "    'Experience ' : 'Developer'    \n",
    "}\n",
    "\n",
    "print(dic.keys()) #prints only keys\n",
    "print(dic.items()) #print keys along with values\n",
    "print(dic.values()) #print only values\n",
    "\n",
    "#OR\n",
    "\n",
    "for key in dic:\n",
    "    print(dic[key])\n",
    "    \n",
    "    \n",
    "f\n"
   ]
  },
  {
   "cell_type": "code",
   "execution_count": null,
   "id": "bf8a8d75",
   "metadata": {},
   "outputs": [],
   "source": []
  }
 ],
 "metadata": {
  "kernelspec": {
   "display_name": "Python 3 (ipykernel)",
   "language": "python",
   "name": "python3"
  },
  "language_info": {
   "codemirror_mode": {
    "name": "ipython",
    "version": 3
   },
   "file_extension": ".py",
   "mimetype": "text/x-python",
   "name": "python",
   "nbconvert_exporter": "python",
   "pygments_lexer": "ipython3",
   "version": "3.9.12"
  }
 },
 "nbformat": 4,
 "nbformat_minor": 5
}
